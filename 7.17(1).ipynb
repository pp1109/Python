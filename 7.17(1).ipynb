{
 "cells": [
  {
   "cell_type": "markdown",
   "metadata": {},
   "source": [
    "# 数学函数、字符串和对象\n",
    "## 本章介绍Python函数来执行常见的数学运算\n",
    "- 函数是完成一个特殊任务的一组语句，可以理解为一个函数相当于一个小功能，但是在开发中，需要注意一个函数的长度最好不要超过一屏\n",
    "- Python中的内置函数是不需要Import导入的\n",
    "<img src=\"../Photo/15.png\"></img>"
   ]
  },
  {
   "cell_type": "markdown",
   "metadata": {},
   "source": [
    "## 尝试练习Python内置函数"
   ]
  },
  {
   "cell_type": "markdown",
   "metadata": {},
   "source": [
    "## Python中的math模块提供了许多数学函数\n",
    "<img src=\"../Photo/16.png\"></img>\n",
    "<img src=\"../Photo/17.png\"></img>\n"
   ]
  },
  {
   "cell_type": "markdown",
   "metadata": {},
   "source": [
    "## 两个数学常量PI和e，可以通过使用math.pi 和math.e调用"
   ]
  },
  {
   "cell_type": "code",
   "execution_count": 4,
   "metadata": {},
   "outputs": [],
   "source": [
    "import math"
   ]
  },
  {
   "cell_type": "code",
   "execution_count": 6,
   "metadata": {},
   "outputs": [
    {
     "data": {
      "text/plain": [
       "2.8284271247461903"
      ]
     },
     "execution_count": 6,
     "metadata": {},
     "output_type": "execute_result"
    }
   ],
   "source": [
    "math.sqrt(8.0)"
   ]
  },
  {
   "cell_type": "code",
   "execution_count": 3,
   "metadata": {},
   "outputs": [
    {
     "ename": "NameError",
     "evalue": "name 'sin' is not defined",
     "output_type": "error",
     "traceback": [
      "\u001b[1;31m---------------------------------------------------------------------------\u001b[0m",
      "\u001b[1;31mNameError\u001b[0m                                 Traceback (most recent call last)",
      "\u001b[1;32m<ipython-input-3-0ae4a2ceb5bf>\u001b[0m in \u001b[0;36m<module>\u001b[1;34m\u001b[0m\n\u001b[1;32m----> 1\u001b[1;33m \u001b[0ma\u001b[0m\u001b[1;33m=\u001b[0m\u001b[0msin\u001b[0m\u001b[1;33m(\u001b[0m\u001b[0mpi\u001b[0m\u001b[1;33m/\u001b[0m\u001b[1;36m5\u001b[0m\u001b[1;33m)\u001b[0m\u001b[1;33m\u001b[0m\u001b[1;33m\u001b[0m\u001b[0m\n\u001b[0m",
      "\u001b[1;31mNameError\u001b[0m: name 'sin' is not defined"
     ]
    }
   ],
   "source": [
    "a=sin(pi/5)"
   ]
  },
  {
   "cell_type": "markdown",
   "metadata": {},
   "source": [
    "## EP:\n",
    "- 通过math库，写一个程序，使得用户输入三个顶点(x,y)返回三个角度\n",
    "- 注意：Python计算角度为弧度制，需要将其转换为角度\n",
    "<img src=\"../Photo/18.png\">"
   ]
  },
  {
   "cell_type": "code",
   "execution_count": 32,
   "metadata": {},
   "outputs": [
    {
     "name": "stdout",
     "output_type": "stream",
     "text": [
      "请输入三个顶点2,3,3,4,5,6\n",
      "93.37814305619406\n",
      "122.02776011381499\n",
      "103.63302222536642\n"
     ]
    }
   ],
   "source": [
    "import math\n",
    "(x1,y1,x2,y2,x3,y3)=eval(input('请输入三个顶点'))\n",
    "a=math.sqrt(math.pow(x1-x2,2)+math.pow(y1-y2,2))\n",
    "b=math.sqrt(math.pow(x1-x3,2)+math.pow(y1-y3,2))\n",
    "c=math.sqrt(math.pow(x2-x3,2)+math.pow(y2-y3,2))\n",
    "side1=a/(-2*b*c)\n",
    "A=math.acos(side1)\n",
    "side2=b/(-2*a*c)\n",
    "B=math.acos(side2)\n",
    "side3=c/(-2*a*b)\n",
    "C=math.acos(side3)\n",
    "print(math.degrees(A))\n",
    "print(math.degrees(B))\n",
    "print(math.degrees(C))\n"
   ]
  },
  {
   "cell_type": "code",
   "execution_count": 30,
   "metadata": {},
   "outputs": [
    {
     "name": "stdout",
     "output_type": "stream",
     "text": [
      "70 9 96 未中奖\n"
     ]
    }
   ],
   "source": [
    "import random\n",
    "a=random.randint(1,100)\n",
    "b=random.randint(1,100)\n",
    "c=random.randint(1,100)\n",
    "if (a+b>c and a+c>b and c+b>a):\n",
    "    print(a,b,c,'中奖')\n",
    "else:\n",
    "    print(a,b,c,'未中奖')"
   ]
  },
  {
   "cell_type": "markdown",
   "metadata": {},
   "source": [
    "## 字符串和字符\n",
    "- 在Python中，字符串必须是在单引号或者双引号内，在多段换行的字符串中可以使用“”“\n",
    "- 在使用”“”时，给予其变量则变为字符串，否则当多行注释使用"
   ]
  },
  {
   "cell_type": "markdown",
   "metadata": {},
   "source": [
    "## ASCII码与Unicode码\n",
    "- <img src=\"../Photo/19.png\"></img>\n",
    "- <img src=\"../Photo/20.png\"></img>\n",
    "- <img src=\"../Photo/21.png\"></img>"
   ]
  },
  {
   "cell_type": "code",
   "execution_count": 18,
   "metadata": {},
   "outputs": [
    {
     "data": {
      "text/plain": [
       "'a'"
      ]
     },
     "execution_count": 18,
     "metadata": {},
     "output_type": "execute_result"
    }
   ],
   "source": [
    "chr(97)"
   ]
  },
  {
   "cell_type": "code",
   "execution_count": 22,
   "metadata": {},
   "outputs": [],
   "source": [
    "import random"
   ]
  },
  {
   "cell_type": "code",
   "execution_count": 29,
   "metadata": {},
   "outputs": [
    {
     "name": "stdout",
     "output_type": "stream",
     "text": [
      "输入加密文本345\n",
      "h\n",
      "hh\n",
      "hhh\n"
     ]
    }
   ],
   "source": [
    "a=input('输入加密文本')\n",
    "c=''\n",
    "d=random.randint(0,10)\n",
    "for i in a:\n",
    "    b=chr(ord('i')-d+1)\n",
    "    c+=b\n",
    "    print(c)"
   ]
  },
  {
   "cell_type": "markdown",
   "metadata": {},
   "source": [
    "## 函数ord、chr\n",
    "- ord 返回ASCII码值\n",
    "- chr 返回字符"
   ]
  },
  {
   "cell_type": "code",
   "execution_count": 28,
   "metadata": {},
   "outputs": [
    {
     "data": {
      "text/plain": [
       "49"
      ]
     },
     "execution_count": 28,
     "metadata": {},
     "output_type": "execute_result"
    }
   ],
   "source": [
    "ord('1')"
   ]
  },
  {
   "cell_type": "markdown",
   "metadata": {},
   "source": [
    "## EP:\n",
    "- 利用ord与chr进行简单邮箱加密"
   ]
  },
  {
   "cell_type": "code",
   "execution_count": 5,
   "metadata": {},
   "outputs": [
    {
     "name": "stdout",
     "output_type": "stream",
     "text": [
      "输入加密文本p9oi7y5\n",
      "f\n",
      "ff\n",
      "fff\n",
      "ffff\n",
      "fffff\n",
      "ffffff\n",
      "fffffff\n"
     ]
    }
   ],
   "source": [
    "#邮箱加密\n",
    "a=input('输入加密文本')\n",
    "c=''\n",
    "d=random.randint(0,10)\n",
    "for i in a:\n",
    "    b=chr(ord('i')-d+1)\n",
    "    c+=b\n",
    "    print(c)"
   ]
  },
  {
   "cell_type": "markdown",
   "metadata": {},
   "source": [
    "## 转义序列 \\\n",
    "- a = \"He said,\"Johon's program is easy to read\"\n",
    "- 转掉它原来的意思\n",
    "- 一般情况下只有当语句与默认方法相撞的时候，就需要转义"
   ]
  },
  {
   "cell_type": "markdown",
   "metadata": {},
   "source": [
    "1.三引号和单/双引号的区别是:\n",
    "- 三引号内可以使用换行,单/双引号\n",
    "- 三引号如果不加变量的话,代表是注释(可以换行注释)\n",
    "\n",
    "2.单/双引号内是不是可以加入单/双引号的,但是可以加入双/单.\n",
    "\n",
    "3.如果非要头铁,可以使用\"\\\\\"(转义字符),表示转掉它原来的意思."
   ]
  },
  {
   "cell_type": "markdown",
   "metadata": {},
   "source": [
    "## 高级print\n",
    "- 参数 end： 以什么方式结束打印\n",
    "- 默认换行打印"
   ]
  },
  {
   "cell_type": "code",
   "execution_count": 1,
   "metadata": {},
   "outputs": [
    {
     "name": "stdout",
     "output_type": "stream",
     "text": [
      "joker\n",
      "ok\n"
     ]
    }
   ],
   "source": [
    "print('joker')\n",
    "print('ok')"
   ]
  },
  {
   "cell_type": "code",
   "execution_count": 2,
   "metadata": {},
   "outputs": [
    {
     "name": "stdout",
     "output_type": "stream",
     "text": [
      "joker*ok\n"
     ]
    }
   ],
   "source": [
    "print('joker',end=\"*\")\n",
    "print('ok')"
   ]
  },
  {
   "cell_type": "code",
   "execution_count": 3,
   "metadata": {},
   "outputs": [
    {
     "name": "stdout",
     "output_type": "stream",
     "text": [
      "joker*ok\n"
     ]
    }
   ],
   "source": [
    "print('joker','ok',sep=\"*\")"
   ]
  },
  {
   "cell_type": "code",
   "execution_count": 8,
   "metadata": {},
   "outputs": [
    {
     "name": "stdout",
     "output_type": "stream",
     "text": [
      "joker"
     ]
    }
   ],
   "source": [
    "import sys\n",
    "sys.stdout.write('joker')#系统写入"
   ]
  },
  {
   "cell_type": "code",
   "execution_count": 9,
   "metadata": {},
   "outputs": [
    {
     "name": "stdout",
     "output_type": "stream",
     "text": [
      "0 / 101 / 102 / 103 / 104 / 105 / 106 / 107 / 108 / 109 / 10"
     ]
    }
   ],
   "source": [
    "for i in range(10):\n",
    "    print(i,'/',10,flush=True,end='')#无缝连接"
   ]
  },
  {
   "cell_type": "code",
   "execution_count": 10,
   "metadata": {},
   "outputs": [
    {
     "name": "stdout",
     "output_type": "stream",
     "text": [
      "100/100\r"
     ]
    }
   ],
   "source": [
    "#计数法\n",
    "import time\n",
    "for i in range(100):\n",
    "    print('%s/%s\\r'%(i+1,100),flush=True,end=\"\")#flush=True（刷新）\n",
    "    time.sleep(0.3)"
   ]
  },
  {
   "cell_type": "code",
   "execution_count": 11,
   "metadata": {},
   "outputs": [
    {
     "name": "stdout",
     "output_type": "stream",
     "text": [
      "[100%]####################\r"
     ]
    }
   ],
   "source": [
    "#进度条\n",
    "import time\n",
    "for i in range(100):\n",
    "    print('[%s%%]%s\\r'%(i+1,(i+1)//5*'#'),flush=True,end=\"\")\n",
    "    time.sleep(1)"
   ]
  },
  {
   "cell_type": "markdown",
   "metadata": {},
   "source": [
    "## 函数str\n",
    "- 将类型强制转换成字符串类型\n",
    "- 其他一些以后会学到(list,set,tuple...)"
   ]
  },
  {
   "cell_type": "code",
   "execution_count": 4,
   "metadata": {},
   "outputs": [
    {
     "data": {
      "text/plain": [
       "10.0"
      ]
     },
     "execution_count": 4,
     "metadata": {},
     "output_type": "execute_result"
    }
   ],
   "source": [
    "float(10)"
   ]
  },
  {
   "cell_type": "markdown",
   "metadata": {},
   "source": [
    "## 字符串连接操作\n",
    "- 直接使用 “+” \n",
    "- join() 函数 "
   ]
  },
  {
   "cell_type": "code",
   "execution_count": 5,
   "metadata": {},
   "outputs": [
    {
     "data": {
      "text/plain": [
       "'aab'"
      ]
     },
     "execution_count": 5,
     "metadata": {},
     "output_type": "execute_result"
    }
   ],
   "source": [
    "'a'.join(('a','b'))"
   ]
  },
  {
   "cell_type": "code",
   "execution_count": 6,
   "metadata": {},
   "outputs": [
    {
     "data": {
      "text/plain": [
       "'ab'"
      ]
     },
     "execution_count": 6,
     "metadata": {},
     "output_type": "execute_result"
    }
   ],
   "source": [
    "''.join(('a','b'))"
   ]
  },
  {
   "cell_type": "code",
   "execution_count": 7,
   "metadata": {},
   "outputs": [
    {
     "data": {
      "text/plain": [
       "'a!b'"
      ]
     },
     "execution_count": 7,
     "metadata": {},
     "output_type": "execute_result"
    }
   ],
   "source": [
    "'a'+'!'+'b'"
   ]
  },
  {
   "cell_type": "code",
   "execution_count": 15,
   "metadata": {},
   "outputs": [
    {
     "name": "stdout",
     "output_type": "stream",
     "text": [
      "http://op.hanhande.net/shtml/op-wz/list_2602_1.shtml\n",
      "http://op.hanhande.net/shtml/op-wz/list_2602_2.shtml\n",
      "http://op.hanhande.net/shtml/op-wz/list_2602_3.shtml\n",
      "http://op.hanhande.net/shtml/op-wz/list_2602_4.shtml\n",
      "http://op.hanhande.net/shtml/op-wz/list_2602_5.shtml\n",
      "http://op.hanhande.net/shtml/op-wz/list_2602_6.shtml\n",
      "http://op.hanhande.net/shtml/op-wz/list_2602_7.shtml\n",
      "http://op.hanhande.net/shtml/op-wz/list_2602_8.shtml\n",
      "http://op.hanhande.net/shtml/op-wz/list_2602_9.shtml\n",
      "http://op.hanhande.net/shtml/op-wz/list_2602_10.shtml\n",
      "http://op.hanhande.net/shtml/op-wz/list_2602_11.shtml\n",
      "http://op.hanhande.net/shtml/op-wz/list_2602_12.shtml\n",
      "http://op.hanhande.net/shtml/op-wz/list_2602_13.shtml\n",
      "http://op.hanhande.net/shtml/op-wz/list_2602_14.shtml\n",
      "http://op.hanhande.net/shtml/op-wz/list_2602_15.shtml\n",
      "http://op.hanhande.net/shtml/op-wz/list_2602_16.shtml\n",
      "http://op.hanhande.net/shtml/op-wz/list_2602_17.shtml\n",
      "http://op.hanhande.net/shtml/op-wz/list_2602_18.shtml\n",
      "http://op.hanhande.net/shtml/op-wz/list_2602_19.shtml\n",
      "http://op.hanhande.net/shtml/op-wz/list_2602_20.shtml\n",
      "http://op.hanhande.net/shtml/op-wz/list_2602_21.shtml\n",
      "http://op.hanhande.net/shtml/op-wz/list_2602_22.shtml\n",
      "http://op.hanhande.net/shtml/op-wz/list_2602_23.shtml\n",
      "http://op.hanhande.net/shtml/op-wz/list_2602_24.shtml\n",
      "http://op.hanhande.net/shtml/op-wz/list_2602_25.shtml\n",
      "http://op.hanhande.net/shtml/op-wz/list_2602_26.shtml\n",
      "http://op.hanhande.net/shtml/op-wz/list_2602_27.shtml\n"
     ]
    }
   ],
   "source": [
    "a='http://op.hanhande.net/shtml/op-wz/list_2602_'\n",
    "for i in range(1,28):\n",
    "    ural=a+str(i)+'.shtml'http://op.hanhande.net/shtml/op-wz/list_2602_1.shtml\n",
    "    print(ural)"
   ]
  },
  {
   "cell_type": "code",
   "execution_count": 17,
   "metadata": {},
   "outputs": [
    {
     "name": "stdout",
     "output_type": "stream",
     "text": [
      "http://op.hanhande.net/shtml/op-wz/list_2602_1.shtml\n",
      "http://op.hanhande.net/shtml/op-wz/list_2602_2.shtml\n",
      "http://op.hanhande.net/shtml/op-wz/list_2602_3.shtml\n",
      "http://op.hanhande.net/shtml/op-wz/list_2602_4.shtml\n",
      "http://op.hanhande.net/shtml/op-wz/list_2602_5.shtml\n",
      "http://op.hanhande.net/shtml/op-wz/list_2602_6.shtml\n",
      "http://op.hanhande.net/shtml/op-wz/list_2602_7.shtml\n",
      "http://op.hanhande.net/shtml/op-wz/list_2602_8.shtml\n",
      "http://op.hanhande.net/shtml/op-wz/list_2602_9.shtml\n",
      "http://op.hanhande.net/shtml/op-wz/list_2602_10.shtml\n",
      "http://op.hanhande.net/shtml/op-wz/list_2602_11.shtml\n",
      "http://op.hanhande.net/shtml/op-wz/list_2602_12.shtml\n",
      "http://op.hanhande.net/shtml/op-wz/list_2602_13.shtml\n",
      "http://op.hanhande.net/shtml/op-wz/list_2602_14.shtml\n",
      "http://op.hanhande.net/shtml/op-wz/list_2602_15.shtml\n",
      "http://op.hanhande.net/shtml/op-wz/list_2602_16.shtml\n",
      "http://op.hanhande.net/shtml/op-wz/list_2602_17.shtml\n",
      "http://op.hanhande.net/shtml/op-wz/list_2602_18.shtml\n",
      "http://op.hanhande.net/shtml/op-wz/list_2602_19.shtml\n",
      "http://op.hanhande.net/shtml/op-wz/list_2602_20.shtml\n",
      "http://op.hanhande.net/shtml/op-wz/list_2602_21.shtml\n",
      "http://op.hanhande.net/shtml/op-wz/list_2602_22.shtml\n",
      "http://op.hanhande.net/shtml/op-wz/list_2602_23.shtml\n",
      "http://op.hanhande.net/shtml/op-wz/list_2602_24.shtml\n",
      "http://op.hanhande.net/shtml/op-wz/list_2602_25.shtml\n",
      "http://op.hanhande.net/shtml/op-wz/list_2602_26.shtml\n",
      "http://op.hanhande.net/shtml/op-wz/list_2602_27.shtml\n"
     ]
    }
   ],
   "source": [
    "a='http://op.hanhande.net/shtml/op-wz/list_2602_'\n",
    "for i in range(1,28):\n",
    "    url=''.join((a,str(i)))\n",
    "    URL=''.join((url,'.shtml'))\n",
    "    print(URL)"
   ]
  },
  {
   "cell_type": "markdown",
   "metadata": {},
   "source": [
    "## EP：\n",
    "- 将 “Welcome” “to” \"Python\" 拼接\n",
    "- 将int型 100 与 “joker is a bad man” 拼接\n",
    "- 从控制台读取字符串\n",
    "> 输入一个名字返回夸奖此人"
   ]
  },
  {
   "cell_type": "code",
   "execution_count": 12,
   "metadata": {},
   "outputs": [
    {
     "name": "stdout",
     "output_type": "stream",
     "text": [
      "Welcome to Python\n"
     ]
    }
   ],
   "source": [
    "print('Welcome','to','Python',sep=\" \")"
   ]
  },
  {
   "cell_type": "code",
   "execution_count": 13,
   "metadata": {},
   "outputs": [
    {
     "name": "stdout",
     "output_type": "stream",
     "text": [
      "100 joker is a bad man\n"
     ]
    }
   ],
   "source": [
    "str(100)\n",
    "print('100','joker is a bad man',sep=\" \")"
   ]
  },
  {
   "cell_type": "markdown",
   "metadata": {},
   "source": [
    "## 实例研究：最小数量硬币\n",
    "- 开发一个程序，让用户输入总金额，这是一个用美元和美分表示的浮点值，返回一个由美元、两角五分的硬币、一角的硬币、五分硬币、以及美分个数\n",
    "<img src=\"../Photo/22.png\"></img>"
   ]
  },
  {
   "cell_type": "code",
   "execution_count": null,
   "metadata": {},
   "outputs": [],
   "source": []
  },
  {
   "cell_type": "markdown",
   "metadata": {},
   "source": [
    "- Python弱项，对于浮点型的处理并不是很好，但是处理数据的时候使用的是Numpy类型\n",
    "<img src=\"../Photo/23.png\"></img>"
   ]
  },
  {
   "cell_type": "markdown",
   "metadata": {},
   "source": [
    "## id与type\n",
    "- id 查看内存地址，在判断语句中将会使用\n",
    "- type 查看元素类型"
   ]
  },
  {
   "cell_type": "code",
   "execution_count": 33,
   "metadata": {},
   "outputs": [
    {
     "data": {
      "text/plain": [
       "140719332955232"
      ]
     },
     "execution_count": 33,
     "metadata": {},
     "output_type": "execute_result"
    }
   ],
   "source": [
    "a = 10\n",
    "id(a)"
   ]
  },
  {
   "cell_type": "markdown",
   "metadata": {},
   "source": [
    "## 其他格式化语句见书"
   ]
  },
  {
   "cell_type": "markdown",
   "metadata": {},
   "source": [
    "# Homework\n",
    "- 1\n",
    "<img src=\"../Photo/24.png\"><img>\n",
    "<img src=\"../Photo/25.png\"><img>"
   ]
  },
  {
   "cell_type": "code",
   "execution_count": 3,
   "metadata": {},
   "outputs": [],
   "source": [
    "import math"
   ]
  },
  {
   "cell_type": "code",
   "execution_count": 6,
   "metadata": {},
   "outputs": [
    {
     "name": "stdout",
     "output_type": "stream",
     "text": [
      "输入顶点到中心的距离：5.5\n",
      "面积为： 71.92\n"
     ]
    }
   ],
   "source": [
    "#计算五边形的面积\n",
    "r=eval(input('输入顶点到中心的距离：'))\n",
    "s=2*r*math.sin(math.pi/5)\n",
    "area=(5*s*s)/(4*math.tan(math.pi/5))\n",
    "print('面积为：',round(area,2))"
   ]
  },
  {
   "cell_type": "markdown",
   "metadata": {},
   "source": [
    "- 2\n",
    "<img src=\"../Photo/26.png\"><img>"
   ]
  },
  {
   "cell_type": "code",
   "execution_count": 9,
   "metadata": {},
   "outputs": [],
   "source": [
    "import math"
   ]
  },
  {
   "cell_type": "code",
   "execution_count": 18,
   "metadata": {},
   "outputs": [
    {
     "name": "stdout",
     "output_type": "stream",
     "text": [
      "输入第一个点的经度和纬度：39.55,-116.25\n",
      "输入第二个点的经度和纬度：41.5,87.37\n",
      "俩点之间大圆的距离： 10691.79183231593 km\n"
     ]
    }
   ],
   "source": [
    "#大圆距\n",
    "x1,y1=eval(input('输入第一个点的经度和纬度：'))\n",
    "x2,y2=eval(input('输入第二个点的经度和纬度：'))\n",
    "part_1=math.sin(math.radians(x1))\n",
    "part_2=math.sin(math.radians(x2))\n",
    "part_3=math.cos(math.radians(x1))\n",
    "part_4=math.cos(math.radians(x2))\n",
    "part_5=math.cos(math.radians(y1-y2))\n",
    "radius=6371.01\n",
    "d=radius*math.acos(part_1*part_2+part_3*part_4*part_5)\n",
    "print('俩点之间大圆的距离：',d,'km')"
   ]
  },
  {
   "cell_type": "code",
   "execution_count": 12,
   "metadata": {},
   "outputs": [
    {
     "name": "stdout",
     "output_type": "stream",
     "text": [
      "输入第一个点的经度和纬度：1,1\n",
      "输入第二个点的经度和纬度：-3,5\n",
      "0.01745240643728351 -0.052335956242943835 0.9998476951563913 0.9986295347545738 0.9975640502598242\n"
     ]
    }
   ],
   "source": [
    "x1,y1=eval(input('输入第一个点的经度和纬度：'))\n",
    "x2,y2=eval(input('输入第二个点的经度和纬度：'))\n",
    "part_1=math.sin(math.radians(x1))\n",
    "part_2=math.sin(math.radians(x2))\n",
    "part_3=math.cos(math.radians(x1))\n",
    "part_4=math.cos(math.radians(x2))\n",
    "part_5=math.cos(math.radians(y1-y2))\n",
    "print(part_1,part_2,part_3,part_4,part_5)"
   ]
  },
  {
   "cell_type": "code",
   "execution_count": null,
   "metadata": {},
   "outputs": [],
   "source": [
    "hudu=math.radians(90)\n",
    "math.sin(hudu)"
   ]
  },
  {
   "cell_type": "markdown",
   "metadata": {},
   "source": [
    "- 3\n",
    "<img src=\"../Photo/27.png\"><img>"
   ]
  },
  {
   "cell_type": "code",
   "execution_count": 19,
   "metadata": {},
   "outputs": [
    {
     "name": "stdout",
     "output_type": "stream",
     "text": [
      "输入五角形的边长:5.5\n",
      "五角形的面积: 52.044441367816255\n"
     ]
    }
   ],
   "source": [
    "#五角形的面积\n",
    "s=eval(input('输入五角形的边长:'))\n",
    "part_1=5*s**2\n",
    "part_2=4*math.tan(math.pi/5)\n",
    "Area=part_1/part_2\n",
    "print('五角形的面积:',Area)"
   ]
  },
  {
   "cell_type": "markdown",
   "metadata": {},
   "source": [
    "- 4\n",
    "<img src=\"../Photo/28.png\"><img>"
   ]
  },
  {
   "cell_type": "code",
   "execution_count": 20,
   "metadata": {},
   "outputs": [
    {
     "name": "stdout",
     "output_type": "stream",
     "text": [
      "输入正多边形的边长:6.5\n",
      "输入正多边形的边数:5\n",
      "正多边形的面积: 72.69017017488386\n"
     ]
    }
   ],
   "source": [
    "#一个正多边形的面积\n",
    "s=eval(input('输入正多边形的边长:'))\n",
    "n=eval(input('输入正多边形的边数:'))\n",
    "part_1=n*s**2\n",
    "part_2=4*math.tan(math.pi/n)\n",
    "Area=part_1/part_2\n",
    "print('正多边形的面积:',Area)"
   ]
  },
  {
   "cell_type": "markdown",
   "metadata": {},
   "source": [
    "- 5\n",
    "<img src=\"../Photo/29.png\"><img>\n",
    "<img src=\"../Photo/30.png\"><img>"
   ]
  },
  {
   "cell_type": "code",
   "execution_count": 41,
   "metadata": {},
   "outputs": [
    {
     "name": "stdout",
     "output_type": "stream",
     "text": [
      "输入一个(ASCII码值）0—127之间的整数69\n",
      "对应字符： E\n"
     ]
    }
   ],
   "source": [
    "number=int(input('输入一个(ASCII码值）0—127之间的整数'))\n",
    "print('对应字符：',chr(number))"
   ]
  },
  {
   "cell_type": "code",
   "execution_count": 39,
   "metadata": {},
   "outputs": [
    {
     "data": {
      "text/plain": [
       "'E'"
      ]
     },
     "execution_count": 39,
     "metadata": {},
     "output_type": "execute_result"
    }
   ],
   "source": [
    "chr(69)"
   ]
  },
  {
   "cell_type": "markdown",
   "metadata": {},
   "source": [
    "- 6\n",
    "<img src=\"../Photo/31.png\"><img>"
   ]
  },
  {
   "cell_type": "code",
   "execution_count": null,
   "metadata": {},
   "outputs": [],
   "source": [
    "#反向数字\n",
    "n=int(input('输入一个四位数整数：'))\n",
    "i=0\n",
    "n1=n\n",
    "while True:\n",
    "    if n1//10==0:\n",
    "        break\n",
    "        i+=1\n",
    "        n1=n1//10\n",
    "sum=0\n",
    "while i>=0:\n",
    "    sum=sum+(n%10)*(10**i)\n",
    "    n=n//10\n",
    "    i=i-1\n",
    "print(sum)"
   ]
  },
  {
   "cell_type": "markdown",
   "metadata": {},
   "source": [
    "- 7\n",
    "<img src=\"../Photo/32.png\"><img>"
   ]
  },
  {
   "cell_type": "code",
   "execution_count": 6,
   "metadata": {},
   "outputs": [
    {
     "name": "stdout",
     "output_type": "stream",
     "text": [
      "输入一个四位数整数：4567\n",
      "7654\n"
     ]
    }
   ],
   "source": [
    "n=input('输入一个四位数整数：')\n",
    "print(n[::-1])"
   ]
  },
  {
   "cell_type": "markdown",
   "metadata": {},
   "source": [
    "- 8 进阶：\n",
    "> 加密一串文本，并将解密后的文件写入本地保存"
   ]
  }
 ],
 "metadata": {
  "kernelspec": {
   "display_name": "Python 3",
   "language": "python",
   "name": "python3"
  },
  "language_info": {
   "codemirror_mode": {
    "name": "ipython",
    "version": 3
   },
   "file_extension": ".py",
   "mimetype": "text/x-python",
   "name": "python",
   "nbconvert_exporter": "python",
   "pygments_lexer": "ipython3",
   "version": "3.7.3"
  }
 },
 "nbformat": 4,
 "nbformat_minor": 2
}
